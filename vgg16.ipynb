{
  "nbformat": 4,
  "nbformat_minor": 0,
  "metadata": {
    "colab": {
      "name": "vgg16.ipynb",
      "private_outputs": true,
      "provenance": [],
      "collapsed_sections": []
    },
    "kernelspec": {
      "name": "python3",
      "display_name": "Python 3"
    },
    "accelerator": "GPU"
  },
  "cells": [
    {
      "cell_type": "code",
      "metadata": {
        "id": "CPl32SNPs4iE"
      },
      "source": [
        "from google.colab import drive \r\n",
        "drive.mount('/content/drive')\r\n"
      ],
      "execution_count": null,
      "outputs": []
    },
    {
      "cell_type": "code",
      "metadata": {
        "id": "o8UwXbLvu3Gv"
      },
      "source": [
        "import keras,os\r\n",
        "from keras.models import Sequential\r\n",
        "from keras.layers import Dense, Conv2D, MaxPool2D , Flatten\r\n",
        "from keras.preprocessing.image import ImageDataGenerator\r\n",
        "import numpy as np"
      ],
      "execution_count": null,
      "outputs": []
    },
    {
      "cell_type": "code",
      "metadata": {
        "id": "SNcCKcoBu3DJ"
      },
      "source": [
        "trdata = ImageDataGenerator()\r\n",
        "traindata = trdata.flow_from_directory(directory=\"/content/drive/My Drive/Colab Notebooks/cat_dog/training_sets\",target_size=(224,224))\r\n",
        "tsdata = ImageDataGenerator()\r\n",
        "testdata = tsdata.flow_from_directory(directory=\"/content/drive/My Drive/Colab Notebooks/cat_dog/test_set\", target_size=(224,224))"
      ],
      "execution_count": null,
      "outputs": []
    },
    {
      "cell_type": "code",
      "metadata": {
        "id": "gIRq2CShu3AR"
      },
      "source": [
        "model = Sequential()\r\n",
        "model.add(Conv2D(input_shape=(224,224,3),filters=64,kernel_size=(3,3),padding=\"same\", activation=\"relu\"))\r\n",
        "model.add(Conv2D(filters=64,kernel_size=(3,3),padding=\"same\", activation=\"relu\"))\r\n",
        "model.add(MaxPool2D(pool_size=(2,2),strides=(2,2)))\r\n",
        "model.add(Conv2D(filters=128, kernel_size=(3,3), padding=\"same\", activation=\"relu\"))\r\n",
        "model.add(Conv2D(filters=128, kernel_size=(3,3), padding=\"same\", activation=\"relu\"))\r\n",
        "model.add(MaxPool2D(pool_size=(2,2),strides=(2,2)))\r\n",
        "model.add(Conv2D(filters=256, kernel_size=(3,3), padding=\"same\", activation=\"relu\"))\r\n",
        "model.add(Conv2D(filters=256, kernel_size=(3,3), padding=\"same\", activation=\"relu\"))\r\n",
        "model.add(Conv2D(filters=256, kernel_size=(3,3), padding=\"same\", activation=\"relu\"))\r\n",
        "model.add(MaxPool2D(pool_size=(2,2),strides=(2,2)))\r\n",
        "model.add(Conv2D(filters=512, kernel_size=(3,3), padding=\"same\", activation=\"relu\"))\r\n",
        "model.add(Conv2D(filters=512, kernel_size=(3,3), padding=\"same\", activation=\"relu\"))\r\n",
        "model.add(Conv2D(filters=512, kernel_size=(3,3), padding=\"same\", activation=\"relu\"))\r\n",
        "model.add(MaxPool2D(pool_size=(2,2),strides=(2,2)))\r\n",
        "model.add(Conv2D(filters=512, kernel_size=(3,3), padding=\"same\", activation=\"relu\"))\r\n",
        "model.add(Conv2D(filters=512, kernel_size=(3,3), padding=\"same\", activation=\"relu\"))\r\n",
        "model.add(Conv2D(filters=512, kernel_size=(3,3), padding=\"same\", activation=\"relu\"))\r\n",
        "model.add(MaxPool2D(pool_size=(2,2),strides=(2,2)))"
      ],
      "execution_count": null,
      "outputs": []
    },
    {
      "cell_type": "code",
      "metadata": {
        "id": "VDH5BuDou29p"
      },
      "source": [
        "model.add(Flatten())\r\n",
        "model.add(Dense(units=4096,activation=\"relu\"))\r\n",
        "model.add(Dense(units=4096,activation=\"relu\"))\r\n",
        "model.add(Dense(units=2, activation=\"softmax\"))"
      ],
      "execution_count": null,
      "outputs": []
    },
    {
      "cell_type": "code",
      "metadata": {
        "id": "ysxUECR8u262"
      },
      "source": [
        "from keras.optimizers import Adam\r\n",
        "opt = Adam(lr=0.001)\r\n",
        "model.compile(optimizer=opt, loss=keras.losses.categorical_crossentropy, metrics=['accuracy'])"
      ],
      "execution_count": null,
      "outputs": []
    },
    {
      "cell_type": "code",
      "metadata": {
        "id": "cN0ZZ5YRu24B"
      },
      "source": [
        "model.summary()"
      ],
      "execution_count": null,
      "outputs": []
    },
    {
      "cell_type": "code",
      "metadata": {
        "id": "uhuJ90Mmu204"
      },
      "source": [
        "from keras.callbacks import ModelCheckpoint, EarlyStopping\r\n",
        "checkpoint = ModelCheckpoint(\"vgg16_1.h5\", monitor='val_accuracy', verbose=1, save_best_only=True, save_weights_only=False, mode='auto', period=1)\r\n",
        "early = EarlyStopping(monitor='val_accuracy', min_delta=0, patience=20, verbose=1, mode='auto')\r\n",
        "hist = model.fit_generator(steps_per_epoch=100,generator=traindata, validation_data= testdata, validation_steps=10,epochs=100,callbacks=[checkpoint,early])"
      ],
      "execution_count": null,
      "outputs": []
    },
    {
      "cell_type": "code",
      "metadata": {
        "id": "OO3pmxA3u2rp"
      },
      "source": [
        "import matplotlib.pyplot as plt\r\n",
        "plt.plot(hist.history[\"accuracy\"])\r\n",
        "plt.plot(hist.history['val_accuracy'])\r\n",
        "plt.plot(hist.history['loss'])\r\n",
        "plt.plot(hist.history['val_loss'])\r\n",
        "plt.title(\"model accuracy\")\r\n",
        "plt.ylabel(\"Accuracy\")\r\n",
        "plt.xlabel(\"Epoch\")\r\n",
        "plt.legend([\"Accuracy\",\"Validation Accuracy\",\"loss\",\"Validation Loss\"])\r\n",
        "plt.show()"
      ],
      "execution_count": null,
      "outputs": []
    },
    {
      "cell_type": "code",
      "metadata": {
        "id": "VdIdwq8IwMn6"
      },
      "source": [
        "from keras.preprocessing import image\r\n",
        "import tensorflow as tf\r\n",
        "\r\n",
        "img = image.load_img(\"/content/drive/MyDrive/Colab Notebooks/cat_dog/cat_or_dog2.jpg\",target_size=(224,224))\r\n",
        "img = np.asarray(img)\r\n",
        "plt.imshow(img)\r\n",
        "img = np.expand_dims(img, axis=0)\r\n",
        "from keras.models import load_model\r\n",
        "saved_model = load_model(\"vgg16_1.h5\")\r\n",
        "output = saved_model.predict(img)\r\n",
        "if output[0][0] > output[0][1]:\r\n",
        "    print(\"cat\")\r\n",
        "else:\r\n",
        "    print('dog')"
      ],
      "execution_count": null,
      "outputs": []
    }
  ]
}